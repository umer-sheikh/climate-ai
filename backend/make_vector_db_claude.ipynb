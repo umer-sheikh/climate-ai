{
 "cells": [
  {
   "cell_type": "code",
   "execution_count": 1,
   "metadata": {},
   "outputs": [
    {
     "name": "stdout",
     "output_type": "stream",
     "text": [
      "Requirement already satisfied: chromadb in /Users/umersheikh/anaconda3/lib/python3.11/site-packages (0.6.3)\n",
      "Requirement already satisfied: build>=1.0.3 in /Users/umersheikh/anaconda3/lib/python3.11/site-packages (from chromadb) (1.2.2.post1)\n",
      "Requirement already satisfied: pydantic>=1.9 in /Users/umersheikh/anaconda3/lib/python3.11/site-packages (from chromadb) (2.6.4)\n",
      "Requirement already satisfied: chroma-hnswlib==0.7.6 in /Users/umersheikh/anaconda3/lib/python3.11/site-packages (from chromadb) (0.7.6)\n",
      "Requirement already satisfied: fastapi>=0.95.2 in /Users/umersheikh/anaconda3/lib/python3.11/site-packages (from chromadb) (0.115.8)\n",
      "Requirement already satisfied: uvicorn[standard]>=0.18.3 in /Users/umersheikh/anaconda3/lib/python3.11/site-packages (from chromadb) (0.34.0)\n",
      "Requirement already satisfied: numpy>=1.22.5 in /Users/umersheikh/anaconda3/lib/python3.11/site-packages (from chromadb) (1.24.3)\n",
      "Requirement already satisfied: posthog>=2.4.0 in /Users/umersheikh/anaconda3/lib/python3.11/site-packages (from chromadb) (3.15.0)\n",
      "Requirement already satisfied: typing_extensions>=4.5.0 in /Users/umersheikh/anaconda3/lib/python3.11/site-packages (from chromadb) (4.12.2)\n",
      "Requirement already satisfied: onnxruntime>=1.14.1 in /Users/umersheikh/anaconda3/lib/python3.11/site-packages (from chromadb) (1.20.1)\n",
      "Requirement already satisfied: opentelemetry-api>=1.2.0 in /Users/umersheikh/anaconda3/lib/python3.11/site-packages (from chromadb) (1.30.0)\n",
      "Requirement already satisfied: opentelemetry-exporter-otlp-proto-grpc>=1.2.0 in /Users/umersheikh/anaconda3/lib/python3.11/site-packages (from chromadb) (1.30.0)\n",
      "Requirement already satisfied: opentelemetry-instrumentation-fastapi>=0.41b0 in /Users/umersheikh/anaconda3/lib/python3.11/site-packages (from chromadb) (0.51b0)\n",
      "Requirement already satisfied: opentelemetry-sdk>=1.2.0 in /Users/umersheikh/anaconda3/lib/python3.11/site-packages (from chromadb) (1.30.0)\n",
      "Requirement already satisfied: tokenizers>=0.13.2 in /Users/umersheikh/anaconda3/lib/python3.11/site-packages (from chromadb) (0.19.1)\n",
      "Requirement already satisfied: pypika>=0.48.9 in /Users/umersheikh/anaconda3/lib/python3.11/site-packages (from chromadb) (0.48.9)\n",
      "Requirement already satisfied: tqdm>=4.65.0 in /Users/umersheikh/anaconda3/lib/python3.11/site-packages (from chromadb) (4.67.1)\n",
      "Requirement already satisfied: overrides>=7.3.1 in /Users/umersheikh/anaconda3/lib/python3.11/site-packages (from chromadb) (7.7.0)\n",
      "Requirement already satisfied: importlib-resources in /Users/umersheikh/anaconda3/lib/python3.11/site-packages (from chromadb) (6.5.2)\n",
      "Requirement already satisfied: grpcio>=1.58.0 in /Users/umersheikh/anaconda3/lib/python3.11/site-packages (from chromadb) (1.64.1)\n",
      "Requirement already satisfied: bcrypt>=4.0.1 in /Users/umersheikh/anaconda3/lib/python3.11/site-packages (from chromadb) (4.2.1)\n",
      "Requirement already satisfied: typer>=0.9.0 in /Users/umersheikh/anaconda3/lib/python3.11/site-packages (from chromadb) (0.9.0)\n",
      "Requirement already satisfied: kubernetes>=28.1.0 in /Users/umersheikh/anaconda3/lib/python3.11/site-packages (from chromadb) (32.0.1)\n",
      "Requirement already satisfied: tenacity>=8.2.3 in /Users/umersheikh/anaconda3/lib/python3.11/site-packages (from chromadb) (9.0.0)\n",
      "Requirement already satisfied: PyYAML>=6.0.0 in /Users/umersheikh/anaconda3/lib/python3.11/site-packages (from chromadb) (6.0)\n",
      "Requirement already satisfied: mmh3>=4.0.1 in /Users/umersheikh/anaconda3/lib/python3.11/site-packages (from chromadb) (5.1.0)\n",
      "Requirement already satisfied: orjson>=3.9.12 in /Users/umersheikh/anaconda3/lib/python3.11/site-packages (from chromadb) (3.10.6)\n",
      "Requirement already satisfied: httpx>=0.27.0 in /Users/umersheikh/anaconda3/lib/python3.11/site-packages (from chromadb) (0.27.0)\n",
      "Requirement already satisfied: rich>=10.11.0 in /Users/umersheikh/anaconda3/lib/python3.11/site-packages (from chromadb) (13.9.4)\n",
      "Requirement already satisfied: packaging>=19.1 in /Users/umersheikh/anaconda3/lib/python3.11/site-packages (from build>=1.0.3->chromadb) (24.1)\n",
      "Requirement already satisfied: pyproject_hooks in /Users/umersheikh/anaconda3/lib/python3.11/site-packages (from build>=1.0.3->chromadb) (1.2.0)\n",
      "Requirement already satisfied: starlette<0.46.0,>=0.40.0 in /Users/umersheikh/anaconda3/lib/python3.11/site-packages (from fastapi>=0.95.2->chromadb) (0.45.3)\n",
      "Requirement already satisfied: anyio in /Users/umersheikh/anaconda3/lib/python3.11/site-packages (from httpx>=0.27.0->chromadb) (4.8.0)\n",
      "Requirement already satisfied: certifi in /Users/umersheikh/anaconda3/lib/python3.11/site-packages (from httpx>=0.27.0->chromadb) (2023.7.22)\n",
      "Requirement already satisfied: httpcore==1.* in /Users/umersheikh/anaconda3/lib/python3.11/site-packages (from httpx>=0.27.0->chromadb) (1.0.5)\n",
      "Requirement already satisfied: idna in /Users/umersheikh/anaconda3/lib/python3.11/site-packages (from httpx>=0.27.0->chromadb) (2.10)\n",
      "Requirement already satisfied: sniffio in /Users/umersheikh/anaconda3/lib/python3.11/site-packages (from httpx>=0.27.0->chromadb) (1.2.0)\n",
      "Requirement already satisfied: h11<0.15,>=0.13 in /Users/umersheikh/anaconda3/lib/python3.11/site-packages (from httpcore==1.*->httpx>=0.27.0->chromadb) (0.14.0)\n",
      "Requirement already satisfied: six>=1.9.0 in /Users/umersheikh/anaconda3/lib/python3.11/site-packages (from kubernetes>=28.1.0->chromadb) (1.16.0)\n",
      "Requirement already satisfied: python-dateutil>=2.5.3 in /Users/umersheikh/anaconda3/lib/python3.11/site-packages (from kubernetes>=28.1.0->chromadb) (2.8.2)\n",
      "Requirement already satisfied: google-auth>=1.0.1 in /Users/umersheikh/anaconda3/lib/python3.11/site-packages (from kubernetes>=28.1.0->chromadb) (2.38.0)\n",
      "Requirement already satisfied: websocket-client!=0.40.0,!=0.41.*,!=0.42.*,>=0.32.0 in /Users/umersheikh/anaconda3/lib/python3.11/site-packages (from kubernetes>=28.1.0->chromadb) (0.58.0)\n",
      "Requirement already satisfied: requests in /Users/umersheikh/anaconda3/lib/python3.11/site-packages (from kubernetes>=28.1.0->chromadb) (2.32.3)\n",
      "Requirement already satisfied: requests-oauthlib in /Users/umersheikh/anaconda3/lib/python3.11/site-packages (from kubernetes>=28.1.0->chromadb) (2.0.0)\n",
      "Requirement already satisfied: oauthlib>=3.2.2 in /Users/umersheikh/anaconda3/lib/python3.11/site-packages (from kubernetes>=28.1.0->chromadb) (3.2.2)\n",
      "Requirement already satisfied: urllib3>=1.24.2 in /Users/umersheikh/anaconda3/lib/python3.11/site-packages (from kubernetes>=28.1.0->chromadb) (1.26.16)\n",
      "Requirement already satisfied: durationpy>=0.7 in /Users/umersheikh/anaconda3/lib/python3.11/site-packages (from kubernetes>=28.1.0->chromadb) (0.9)\n",
      "Requirement already satisfied: coloredlogs in /Users/umersheikh/anaconda3/lib/python3.11/site-packages (from onnxruntime>=1.14.1->chromadb) (15.0.1)\n",
      "Requirement already satisfied: flatbuffers in /Users/umersheikh/anaconda3/lib/python3.11/site-packages (from onnxruntime>=1.14.1->chromadb) (25.2.10)\n",
      "Requirement already satisfied: protobuf in /Users/umersheikh/anaconda3/lib/python3.11/site-packages (from onnxruntime>=1.14.1->chromadb) (5.29.3)\n",
      "Requirement already satisfied: sympy in /Users/umersheikh/anaconda3/lib/python3.11/site-packages (from onnxruntime>=1.14.1->chromadb) (1.11.1)\n",
      "Requirement already satisfied: deprecated>=1.2.6 in /Users/umersheikh/anaconda3/lib/python3.11/site-packages (from opentelemetry-api>=1.2.0->chromadb) (1.2.18)\n",
      "Requirement already satisfied: importlib-metadata<=8.5.0,>=6.0 in /Users/umersheikh/anaconda3/lib/python3.11/site-packages (from opentelemetry-api>=1.2.0->chromadb) (6.0.0)\n",
      "Requirement already satisfied: googleapis-common-protos~=1.52 in /Users/umersheikh/anaconda3/lib/python3.11/site-packages (from opentelemetry-exporter-otlp-proto-grpc>=1.2.0->chromadb) (1.68.0)\n",
      "Requirement already satisfied: opentelemetry-exporter-otlp-proto-common==1.30.0 in /Users/umersheikh/anaconda3/lib/python3.11/site-packages (from opentelemetry-exporter-otlp-proto-grpc>=1.2.0->chromadb) (1.30.0)\n",
      "Requirement already satisfied: opentelemetry-proto==1.30.0 in /Users/umersheikh/anaconda3/lib/python3.11/site-packages (from opentelemetry-exporter-otlp-proto-grpc>=1.2.0->chromadb) (1.30.0)\n",
      "Requirement already satisfied: opentelemetry-instrumentation-asgi==0.51b0 in /Users/umersheikh/anaconda3/lib/python3.11/site-packages (from opentelemetry-instrumentation-fastapi>=0.41b0->chromadb) (0.51b0)\n",
      "Requirement already satisfied: opentelemetry-instrumentation==0.51b0 in /Users/umersheikh/anaconda3/lib/python3.11/site-packages (from opentelemetry-instrumentation-fastapi>=0.41b0->chromadb) (0.51b0)\n",
      "Requirement already satisfied: opentelemetry-semantic-conventions==0.51b0 in /Users/umersheikh/anaconda3/lib/python3.11/site-packages (from opentelemetry-instrumentation-fastapi>=0.41b0->chromadb) (0.51b0)\n",
      "Requirement already satisfied: opentelemetry-util-http==0.51b0 in /Users/umersheikh/anaconda3/lib/python3.11/site-packages (from opentelemetry-instrumentation-fastapi>=0.41b0->chromadb) (0.51b0)\n",
      "Requirement already satisfied: wrapt<2.0.0,>=1.0.0 in /Users/umersheikh/anaconda3/lib/python3.11/site-packages (from opentelemetry-instrumentation==0.51b0->opentelemetry-instrumentation-fastapi>=0.41b0->chromadb) (1.14.1)\n",
      "Requirement already satisfied: asgiref~=3.0 in /Users/umersheikh/anaconda3/lib/python3.11/site-packages (from opentelemetry-instrumentation-asgi==0.51b0->opentelemetry-instrumentation-fastapi>=0.41b0->chromadb) (3.8.1)\n",
      "Requirement already satisfied: monotonic>=1.5 in /Users/umersheikh/anaconda3/lib/python3.11/site-packages (from posthog>=2.4.0->chromadb) (1.6)\n",
      "Requirement already satisfied: backoff>=1.10.0 in /Users/umersheikh/anaconda3/lib/python3.11/site-packages (from posthog>=2.4.0->chromadb) (2.2.1)\n",
      "Requirement already satisfied: annotated-types>=0.4.0 in /Users/umersheikh/anaconda3/lib/python3.11/site-packages (from pydantic>=1.9->chromadb) (0.6.0)\n",
      "Requirement already satisfied: pydantic-core==2.16.3 in /Users/umersheikh/anaconda3/lib/python3.11/site-packages (from pydantic>=1.9->chromadb) (2.16.3)\n",
      "Requirement already satisfied: markdown-it-py>=2.2.0 in /Users/umersheikh/anaconda3/lib/python3.11/site-packages (from rich>=10.11.0->chromadb) (2.2.0)\n",
      "Requirement already satisfied: pygments<3.0.0,>=2.13.0 in /Users/umersheikh/anaconda3/lib/python3.11/site-packages (from rich>=10.11.0->chromadb) (2.15.1)\n",
      "Requirement already satisfied: huggingface-hub<1.0,>=0.16.4 in /Users/umersheikh/anaconda3/lib/python3.11/site-packages (from tokenizers>=0.13.2->chromadb) (0.27.1)\n",
      "Requirement already satisfied: click<9.0.0,>=7.1.1 in /Users/umersheikh/anaconda3/lib/python3.11/site-packages (from typer>=0.9.0->chromadb) (8.1.7)\n",
      "Requirement already satisfied: httptools>=0.6.3 in /Users/umersheikh/anaconda3/lib/python3.11/site-packages (from uvicorn[standard]>=0.18.3->chromadb) (0.6.4)\n",
      "Requirement already satisfied: python-dotenv>=0.13 in /Users/umersheikh/anaconda3/lib/python3.11/site-packages (from uvicorn[standard]>=0.18.3->chromadb) (1.0.1)\n",
      "Requirement already satisfied: uvloop!=0.15.0,!=0.15.1,>=0.14.0 in /Users/umersheikh/anaconda3/lib/python3.11/site-packages (from uvicorn[standard]>=0.18.3->chromadb) (0.21.0)\n",
      "Requirement already satisfied: watchfiles>=0.13 in /Users/umersheikh/anaconda3/lib/python3.11/site-packages (from uvicorn[standard]>=0.18.3->chromadb) (1.0.4)\n",
      "Requirement already satisfied: websockets>=10.4 in /Users/umersheikh/anaconda3/lib/python3.11/site-packages (from uvicorn[standard]>=0.18.3->chromadb) (15.0)\n",
      "Requirement already satisfied: cachetools<6.0,>=2.0.0 in /Users/umersheikh/anaconda3/lib/python3.11/site-packages (from google-auth>=1.0.1->kubernetes>=28.1.0->chromadb) (5.5.2)\n",
      "Requirement already satisfied: pyasn1-modules>=0.2.1 in /Users/umersheikh/anaconda3/lib/python3.11/site-packages (from google-auth>=1.0.1->kubernetes>=28.1.0->chromadb) (0.2.8)\n",
      "Requirement already satisfied: rsa<5,>=3.1.4 in /Users/umersheikh/anaconda3/lib/python3.11/site-packages (from google-auth>=1.0.1->kubernetes>=28.1.0->chromadb) (4.9)\n",
      "Requirement already satisfied: filelock in /Users/umersheikh/anaconda3/lib/python3.11/site-packages (from huggingface-hub<1.0,>=0.16.4->tokenizers>=0.13.2->chromadb) (3.14.0)\n",
      "Requirement already satisfied: fsspec>=2023.5.0 in /Users/umersheikh/anaconda3/lib/python3.11/site-packages (from huggingface-hub<1.0,>=0.16.4->tokenizers>=0.13.2->chromadb) (2024.6.1)\n",
      "Requirement already satisfied: zipp>=0.5 in /Users/umersheikh/anaconda3/lib/python3.11/site-packages (from importlib-metadata<=8.5.0,>=6.0->opentelemetry-api>=1.2.0->chromadb) (3.11.0)\n",
      "Requirement already satisfied: mdurl~=0.1 in /Users/umersheikh/anaconda3/lib/python3.11/site-packages (from markdown-it-py>=2.2.0->rich>=10.11.0->chromadb) (0.1.0)\n",
      "Requirement already satisfied: charset-normalizer<4,>=2 in /Users/umersheikh/anaconda3/lib/python3.11/site-packages (from requests->kubernetes>=28.1.0->chromadb) (2.0.4)\n",
      "Requirement already satisfied: humanfriendly>=9.1 in /Users/umersheikh/anaconda3/lib/python3.11/site-packages (from coloredlogs->onnxruntime>=1.14.1->chromadb) (10.0)\n",
      "Requirement already satisfied: mpmath>=0.19 in /Users/umersheikh/anaconda3/lib/python3.11/site-packages (from sympy->onnxruntime>=1.14.1->chromadb) (1.3.0)\n",
      "Requirement already satisfied: pyasn1<0.5.0,>=0.4.6 in /Users/umersheikh/anaconda3/lib/python3.11/site-packages (from pyasn1-modules>=0.2.1->google-auth>=1.0.1->kubernetes>=28.1.0->chromadb) (0.4.8)\n",
      "Requirement already satisfied: torch in /Users/umersheikh/anaconda3/lib/python3.11/site-packages (2.1.1)\n",
      "Requirement already satisfied: filelock in /Users/umersheikh/anaconda3/lib/python3.11/site-packages (from torch) (3.14.0)\n",
      "Requirement already satisfied: typing-extensions in /Users/umersheikh/anaconda3/lib/python3.11/site-packages (from torch) (4.12.2)\n",
      "Requirement already satisfied: sympy in /Users/umersheikh/anaconda3/lib/python3.11/site-packages (from torch) (1.11.1)\n",
      "Requirement already satisfied: networkx in /Users/umersheikh/anaconda3/lib/python3.11/site-packages (from torch) (2.8.8)\n",
      "Requirement already satisfied: jinja2 in /Users/umersheikh/anaconda3/lib/python3.11/site-packages (from torch) (3.1.2)\n",
      "Requirement already satisfied: fsspec in /Users/umersheikh/anaconda3/lib/python3.11/site-packages (from torch) (2024.6.1)\n",
      "Requirement already satisfied: MarkupSafe>=2.0 in /Users/umersheikh/anaconda3/lib/python3.11/site-packages (from jinja2->torch) (2.1.1)\n",
      "Requirement already satisfied: mpmath>=0.19 in /Users/umersheikh/anaconda3/lib/python3.11/site-packages (from sympy->torch) (1.3.0)\n",
      "Requirement already satisfied: transformers in /Users/umersheikh/anaconda3/lib/python3.11/site-packages (4.42.3)\n",
      "Requirement already satisfied: filelock in /Users/umersheikh/anaconda3/lib/python3.11/site-packages (from transformers) (3.14.0)\n",
      "Requirement already satisfied: huggingface-hub<1.0,>=0.23.2 in /Users/umersheikh/anaconda3/lib/python3.11/site-packages (from transformers) (0.27.1)\n",
      "Requirement already satisfied: numpy<2.0,>=1.17 in /Users/umersheikh/anaconda3/lib/python3.11/site-packages (from transformers) (1.24.3)\n",
      "Requirement already satisfied: packaging>=20.0 in /Users/umersheikh/anaconda3/lib/python3.11/site-packages (from transformers) (24.1)\n",
      "Requirement already satisfied: pyyaml>=5.1 in /Users/umersheikh/anaconda3/lib/python3.11/site-packages (from transformers) (6.0)\n",
      "Requirement already satisfied: regex!=2019.12.17 in /Users/umersheikh/anaconda3/lib/python3.11/site-packages (from transformers) (2022.7.9)\n",
      "Requirement already satisfied: requests in /Users/umersheikh/anaconda3/lib/python3.11/site-packages (from transformers) (2.32.3)\n",
      "Requirement already satisfied: safetensors>=0.4.1 in /Users/umersheikh/anaconda3/lib/python3.11/site-packages (from transformers) (0.4.2)\n",
      "Requirement already satisfied: tokenizers<0.20,>=0.19 in /Users/umersheikh/anaconda3/lib/python3.11/site-packages (from transformers) (0.19.1)\n",
      "Requirement already satisfied: tqdm>=4.27 in /Users/umersheikh/anaconda3/lib/python3.11/site-packages (from transformers) (4.67.1)\n",
      "Requirement already satisfied: fsspec>=2023.5.0 in /Users/umersheikh/anaconda3/lib/python3.11/site-packages (from huggingface-hub<1.0,>=0.23.2->transformers) (2024.6.1)\n",
      "Requirement already satisfied: typing-extensions>=3.7.4.3 in /Users/umersheikh/anaconda3/lib/python3.11/site-packages (from huggingface-hub<1.0,>=0.23.2->transformers) (4.12.2)\n",
      "Requirement already satisfied: charset-normalizer<4,>=2 in /Users/umersheikh/anaconda3/lib/python3.11/site-packages (from requests->transformers) (2.0.4)\n",
      "Requirement already satisfied: idna<4,>=2.5 in /Users/umersheikh/anaconda3/lib/python3.11/site-packages (from requests->transformers) (2.10)\n",
      "Requirement already satisfied: urllib3<3,>=1.21.1 in /Users/umersheikh/anaconda3/lib/python3.11/site-packages (from requests->transformers) (1.26.16)\n",
      "Requirement already satisfied: certifi>=2017.4.17 in /Users/umersheikh/anaconda3/lib/python3.11/site-packages (from requests->transformers) (2023.7.22)\n",
      "Requirement already satisfied: sentence-transformers in /Users/umersheikh/anaconda3/lib/python3.11/site-packages (3.4.1)\n",
      "Requirement already satisfied: transformers<5.0.0,>=4.41.0 in /Users/umersheikh/anaconda3/lib/python3.11/site-packages (from sentence-transformers) (4.42.3)\n",
      "Requirement already satisfied: tqdm in /Users/umersheikh/anaconda3/lib/python3.11/site-packages (from sentence-transformers) (4.67.1)\n",
      "Requirement already satisfied: torch>=1.11.0 in /Users/umersheikh/anaconda3/lib/python3.11/site-packages (from sentence-transformers) (2.1.1)\n",
      "Requirement already satisfied: scikit-learn in /Users/umersheikh/anaconda3/lib/python3.11/site-packages (from sentence-transformers) (1.3.0)\n",
      "Requirement already satisfied: scipy in /Users/umersheikh/anaconda3/lib/python3.11/site-packages (from sentence-transformers) (1.14.0)\n",
      "Requirement already satisfied: huggingface-hub>=0.20.0 in /Users/umersheikh/anaconda3/lib/python3.11/site-packages (from sentence-transformers) (0.27.1)\n",
      "Requirement already satisfied: Pillow in /Users/umersheikh/anaconda3/lib/python3.11/site-packages (from sentence-transformers) (10.3.0)\n",
      "Requirement already satisfied: filelock in /Users/umersheikh/anaconda3/lib/python3.11/site-packages (from huggingface-hub>=0.20.0->sentence-transformers) (3.14.0)\n",
      "Requirement already satisfied: fsspec>=2023.5.0 in /Users/umersheikh/anaconda3/lib/python3.11/site-packages (from huggingface-hub>=0.20.0->sentence-transformers) (2024.6.1)\n",
      "Requirement already satisfied: packaging>=20.9 in /Users/umersheikh/anaconda3/lib/python3.11/site-packages (from huggingface-hub>=0.20.0->sentence-transformers) (24.1)\n",
      "Requirement already satisfied: pyyaml>=5.1 in /Users/umersheikh/anaconda3/lib/python3.11/site-packages (from huggingface-hub>=0.20.0->sentence-transformers) (6.0)\n",
      "Requirement already satisfied: requests in /Users/umersheikh/anaconda3/lib/python3.11/site-packages (from huggingface-hub>=0.20.0->sentence-transformers) (2.32.3)\n",
      "Requirement already satisfied: typing-extensions>=3.7.4.3 in /Users/umersheikh/anaconda3/lib/python3.11/site-packages (from huggingface-hub>=0.20.0->sentence-transformers) (4.12.2)\n",
      "Requirement already satisfied: sympy in /Users/umersheikh/anaconda3/lib/python3.11/site-packages (from torch>=1.11.0->sentence-transformers) (1.11.1)\n",
      "Requirement already satisfied: networkx in /Users/umersheikh/anaconda3/lib/python3.11/site-packages (from torch>=1.11.0->sentence-transformers) (2.8.8)\n",
      "Requirement already satisfied: jinja2 in /Users/umersheikh/anaconda3/lib/python3.11/site-packages (from torch>=1.11.0->sentence-transformers) (3.1.2)\n",
      "Requirement already satisfied: numpy<2.0,>=1.17 in /Users/umersheikh/anaconda3/lib/python3.11/site-packages (from transformers<5.0.0,>=4.41.0->sentence-transformers) (1.24.3)\n",
      "Requirement already satisfied: regex!=2019.12.17 in /Users/umersheikh/anaconda3/lib/python3.11/site-packages (from transformers<5.0.0,>=4.41.0->sentence-transformers) (2022.7.9)\n",
      "Requirement already satisfied: safetensors>=0.4.1 in /Users/umersheikh/anaconda3/lib/python3.11/site-packages (from transformers<5.0.0,>=4.41.0->sentence-transformers) (0.4.2)\n",
      "Requirement already satisfied: tokenizers<0.20,>=0.19 in /Users/umersheikh/anaconda3/lib/python3.11/site-packages (from transformers<5.0.0,>=4.41.0->sentence-transformers) (0.19.1)\n",
      "Requirement already satisfied: joblib>=1.1.1 in /Users/umersheikh/anaconda3/lib/python3.11/site-packages (from scikit-learn->sentence-transformers) (1.2.0)\n",
      "Requirement already satisfied: threadpoolctl>=2.0.0 in /Users/umersheikh/anaconda3/lib/python3.11/site-packages (from scikit-learn->sentence-transformers) (2.2.0)\n",
      "Requirement already satisfied: MarkupSafe>=2.0 in /Users/umersheikh/anaconda3/lib/python3.11/site-packages (from jinja2->torch>=1.11.0->sentence-transformers) (2.1.1)\n",
      "Requirement already satisfied: charset-normalizer<4,>=2 in /Users/umersheikh/anaconda3/lib/python3.11/site-packages (from requests->huggingface-hub>=0.20.0->sentence-transformers) (2.0.4)\n",
      "Requirement already satisfied: idna<4,>=2.5 in /Users/umersheikh/anaconda3/lib/python3.11/site-packages (from requests->huggingface-hub>=0.20.0->sentence-transformers) (2.10)\n",
      "Requirement already satisfied: urllib3<3,>=1.21.1 in /Users/umersheikh/anaconda3/lib/python3.11/site-packages (from requests->huggingface-hub>=0.20.0->sentence-transformers) (1.26.16)\n",
      "Requirement already satisfied: certifi>=2017.4.17 in /Users/umersheikh/anaconda3/lib/python3.11/site-packages (from requests->huggingface-hub>=0.20.0->sentence-transformers) (2023.7.22)\n",
      "Requirement already satisfied: mpmath>=0.19 in /Users/umersheikh/anaconda3/lib/python3.11/site-packages (from sympy->torch>=1.11.0->sentence-transformers) (1.3.0)\n"
     ]
    }
   ],
   "source": [
    "!pip install chromadb\n",
    "!pip install torch\n",
    "!pip install transformers\n",
    "!pip install sentence-transformers"
   ]
  },
  {
   "cell_type": "code",
   "execution_count": 2,
   "metadata": {},
   "outputs": [],
   "source": [
    "import chromadb\n",
    "from chromadb.utils import embedding_functions\n",
    "import torch\n",
    "from sentence_transformers import SentenceTransformer\n",
    "import json"
   ]
  },
  {
   "cell_type": "code",
   "execution_count": 3,
   "metadata": {},
   "outputs": [],
   "source": [
    "def parse_conversations(file_path):\n",
    "    conversations = []\n",
    "    with open(file_path, 'r', encoding='utf-8') as file:\n",
    "        for line in file:\n",
    "            if line.strip():  # Skip empty lines\n",
    "                try:\n",
    "                    # Split by \"User:\" and \"Assistant:\"\n",
    "                    parts = line.split(\"User:\", 1)\n",
    "                    if len(parts) > 1:\n",
    "                        user_assistant = parts[1].split(\"Assistant:\", 1)\n",
    "                        if len(user_assistant) > 1:\n",
    "                            question = user_assistant[0].strip()\n",
    "                            answer = user_assistant[1].strip()\n",
    "                            conversations.append({\n",
    "                                \"question\": question,\n",
    "                                \"answer\": answer\n",
    "                            })\n",
    "                except Exception as e:\n",
    "                    print(f\"Error parsing line: {e}\")\n",
    "                    continue\n",
    "    return conversations"
   ]
  },
  {
   "cell_type": "code",
   "execution_count": 4,
   "metadata": {},
   "outputs": [
    {
     "name": "stdout",
     "output_type": "stream",
     "text": [
      "Number of conversations parsed: 511081\n",
      "\n",
      "First conversation sample:\n",
      "{\n",
      "  \"question\": \"Which of the following risk types are considered in your organization's climate-related risk assessments?\",\n",
      "  \"answer\": \"In our organization, we utilize a standardized enterprise risk management (ERM) process to assess risks at the company level, which includes risks associated with climate change. Every business unit, region, and corporate function participates in this formal process to measure risks using standard evaluation criteria. Through this process, we typically identify 10-15 risks each year that are assigned ERM priorities to manage these risks under the supervision of the Senior Leadership Committee (SLC) and CEO. The EVP, EBS, and Sustainability, who is a member of the SLC, is responsible for climate-related issues. The SLC meets quarterly on major business issues, including Environment, Health, and Safety, with a subset focused on climate change. Our businesses address climate change issues relating to customer requirements, operational issues, such as new regulations and voluntary norms influenced by climate change, and supply chain issues. For example, the ERM process helped us endorse the new Corporate Average Fuel Economy (CAFE) and GHG standards, which mandates that vehicle fleets achieve an average of 54.5 mpg by 2025. We also support the US EPA phase two of the CAFE and GHG rule for commercial trucks. However, we have also identified the risk that the current Administration may reduce these mileage standards, which would not help mitigate climate change. Therefore, our organization's climate-related risk assessments consider various risks, including customer, operational, and supply chain issues associated with climate change.\"\n",
      "}\n"
     ]
    }
   ],
   "source": [
    "conversations = parse_conversations(\"conversations.txt\")\n",
    "print(f\"Number of conversations parsed: {len(conversations)}\")\n",
    "print(\"\\nFirst conversation sample:\")\n",
    "print(json.dumps(conversations[0], indent=2))"
   ]
  },
  {
   "cell_type": "code",
   "execution_count": 5,
   "metadata": {},
   "outputs": [],
   "source": [
    "class BGEEmbeddingFunction():\n",
    "    def __init__(self):\n",
    "        device = \"cuda\" if torch.cuda.is_available() else \"mps\" if torch.backends.mps.is_available() else \"cpu\"\n",
    "        print(f\"Using device: {device}\")\n",
    "        self.device = device\n",
    "        self.model = SentenceTransformer(\"BAAI/bge-large-en\", device=device)\n",
    "    \n",
    "    def __call__(self, input: list[str]) -> list[list[float]]:\n",
    "        if isinstance(input, str):\n",
    "            input = [input]\n",
    "        embeddings = self.model.encode(input, normalize_embeddings=True)\n",
    "        return embeddings.tolist()"
   ]
  },
  {
   "cell_type": "code",
   "execution_count": 6,
   "metadata": {},
   "outputs": [],
   "source": [
    "def init_embedding_model():\n",
    "    return BGEEmbeddingFunction()"
   ]
  },
  {
   "cell_type": "code",
   "execution_count": 7,
   "metadata": {},
   "outputs": [
    {
     "name": "stdout",
     "output_type": "stream",
     "text": [
      "Using device: mps\n"
     ]
    }
   ],
   "source": [
    "embedding_function = init_embedding_model()"
   ]
  },
  {
   "cell_type": "code",
   "execution_count": 8,
   "metadata": {},
   "outputs": [],
   "source": [
    "from chromadb.config import Settings\n",
    "\n",
    "def init_chroma(embedding_function):\n",
    "    # Create a persistent client\n",
    "    client = chromadb.PersistentClient(\n",
    "        path=\"./chroma_db\",\n",
    "        settings=Settings(\n",
    "            anonymized_telemetry=False,\n",
    "            allow_reset=True,\n",
    "            persist_directory=\"./chroma_db\",\n",
    "        )\n",
    "    )\n",
    "    \n",
    "    # Create or get collection\n",
    "    collection = client.get_or_create_collection(\n",
    "        name=\"conversations\",\n",
    "        embedding_function=embedding_function,\n",
    "        metadata={\"description\": \"Conversation QA pairs\"}\n",
    "    )\n",
    "    \n",
    "    return collection"
   ]
  },
  {
   "cell_type": "code",
   "execution_count": 9,
   "metadata": {},
   "outputs": [],
   "source": [
    "collection = init_chroma(embedding_function)"
   ]
  },
  {
   "cell_type": "code",
   "execution_count": 10,
   "metadata": {},
   "outputs": [],
   "source": [
    "def add_to_chroma(collection, conversations, batch_size=100):\n",
    "    for i in range(0, len(conversations), batch_size):\n",
    "        batch = conversations[i:i + batch_size]\n",
    "        \n",
    "        ids = [f\"conv_{j}\" for j in range(i, i + len(batch))]\n",
    "        documents = [f\"Question: {conv['question']}\\nAnswer: {conv['answer']}\" for conv in batch]\n",
    "        metadatas = [{\"question\": conv['question']} for conv in batch]\n",
    "        \n",
    "        try:\n",
    "            collection.add(\n",
    "                ids=ids,\n",
    "                documents=documents,\n",
    "                metadatas=metadatas\n",
    "            )\n",
    "            print(f\"Added batch {i//batch_size + 1} of {len(conversations)//batch_size + 1}\")\n",
    "        except Exception as e:\n",
    "            print(f\"Error adding batch starting at index {i}: {e}\")"
   ]
  },
  {
   "cell_type": "code",
   "execution_count": 11,
   "metadata": {},
   "outputs": [
    {
     "name": "stdout",
     "output_type": "stream",
     "text": [
      "Parsing conversations...\n",
      "Parsed 511081 conversations\n"
     ]
    }
   ],
   "source": [
    "print(\"Parsing conversations...\")\n",
    "conversations = parse_conversations(\"conversations.txt\")\n",
    "print(f\"Parsed {len(conversations)} conversations\")"
   ]
  },
  {
   "cell_type": "code",
   "execution_count": null,
   "metadata": {},
   "outputs": [],
   "source": [
    "print(\"Adding data to ChromaDB...\")\n",
    "add_to_chroma(collection, conversations)"
   ]
  },
  {
   "cell_type": "code",
   "execution_count": null,
   "metadata": {},
   "outputs": [],
   "source": [
    "def query_example(collection, query_text, n_results=5):\n",
    "    results = collection.query(\n",
    "        query_texts=[query_text],\n",
    "        n_results=n_results\n",
    "    )\n",
    "    return results"
   ]
  },
  {
   "cell_type": "code",
   "execution_count": null,
   "metadata": {},
   "outputs": [],
   "source": [
    "query = \"Please explain the level of inclusion of the planning process.\"\n",
    "results = query_example(collection, query, 1)\n",
    "print(\"\\nExample query results:\")\n",
    "print(json.dumps(results, indent=2))"
   ]
  }
 ],
 "metadata": {
  "kernelspec": {
   "display_name": "base",
   "language": "python",
   "name": "python3"
  },
  "language_info": {
   "codemirror_mode": {
    "name": "ipython",
    "version": 3
   },
   "file_extension": ".py",
   "mimetype": "text/x-python",
   "name": "python",
   "nbconvert_exporter": "python",
   "pygments_lexer": "ipython3",
   "version": "3.11.4"
  }
 },
 "nbformat": 4,
 "nbformat_minor": 2
}
